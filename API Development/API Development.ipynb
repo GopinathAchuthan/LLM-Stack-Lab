{
 "cells": [
  {
   "cell_type": "markdown",
   "id": "6ccd5e9f-81d6-4f14-b8cc-0109960a5138",
   "metadata": {},
   "source": [
    "## What will I learn:\n",
    "\n",
    "1. SQL schema\n",
    "2. Integrate the SQL DB in my API\n",
    "   - Using raw SQL\n",
    "   - Using ORM\n",
    "3. DB migration tools\n",
    "   - Alembic\n",
    "4. Postman\n",
    "5. How to set automatated integration test\n",
    "6. Deployment\n",
    "    - Ubuntu\n",
    "    - Heroku\n",
    "    - Docker\n",
    "7. CI/CD pipeline\n",
    "\n",
    "## Tech Stack:\n",
    "1. Python\n",
    "2. FastAPI\n",
    "3. Postgres SQL\n",
    "4. SQL Alchemy\n",
    "\n",
    "## Project:\n",
    "Social Media Application\n",
    "\n",
    "\n"
   ]
  }
 ],
 "metadata": {
  "kernelspec": {
   "display_name": "Python 3 (ipykernel)",
   "language": "python",
   "name": "python3"
  },
  "language_info": {
   "codemirror_mode": {
    "name": "ipython",
    "version": 3
   },
   "file_extension": ".py",
   "mimetype": "text/x-python",
   "name": "python",
   "nbconvert_exporter": "python",
   "pygments_lexer": "ipython3",
   "version": "3.10.0"
  }
 },
 "nbformat": 4,
 "nbformat_minor": 5
}
