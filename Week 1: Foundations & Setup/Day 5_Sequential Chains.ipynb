{
 "cells": [
  {
   "cell_type": "code",
   "execution_count": 3,
   "id": "2fe5b267-84b8-4031-9140-f3ec7051f2b3",
   "metadata": {},
   "outputs": [
    {
     "name": "stderr",
     "output_type": "stream",
     "text": [
      "/var/folders/xr/2t3y6x3s1lxdgp5c1xqpn5hh0000gn/T/ipykernel_48352/335108287.py:36: LangChainDeprecationWarning: The method `Chain.run` was deprecated in langchain 0.1.0 and will be removed in 1.0. Use :meth:`~invoke` instead.\n",
      "  overall_chain.run(\"a turtle\")\n"
     ]
    },
    {
     "name": "stdout",
     "output_type": "stream",
     "text": [
      "\n",
      "\n",
      "\u001b[1m> Entering new SimpleSequentialChain chain...\u001b[0m\n",
      "\u001b[36;1m\u001b[1;3mOnce upon a time, in a beautiful garden surrounded by tall trees and colorful flowers, there lived a small and wise turtle named Tessa. Tessa was known to be the oldest and the wisest creature in the garden, and all the other animals respected her for her knowledge and good advice.\n",
      "\n",
      "Tessa spent her days slowly wandering around the garden, stopping to admire the beauty of nature and to chat with the other animals. She especially loved talking to a young rabbit named Rosie, who was always full of energy and curiosity.\n",
      "\n",
      "One day, Rosie came to Tessa with a worried expression on her face. She told Tessa that she was scared to try new things and explore the world outside the garden. Tessa listened patiently and then gave Rosie a gentle smile.\n",
      "\n",
      "\"My dear Rosie, remember that it's okay to be scared. But don't let fear hold you back from experiencing new adventures and growing as a person,\" Tessa said in her calm and soothing voice. \"Just like me, I may be slow, but I have seen and experienced so much in my lifetime. And I have no regrets.\"\n",
      "\n",
      "Rosie felt encouraged by Tessa's words and decided to take a leap of faith. She ventured outside the garden and discovered a world full of wonders and beauty that she had never seen before. And with Tessa's guidance and wisdom, Rosie embraced her fear and learned to overcome obstacles with courage and determination.\n",
      "\n",
      "From then on, Rosie and Tessa became inseparable friends, embarking on new adventures together and sharing their experiences with the other animals in the garden. And Tessa's wisdom continued to inspire and guide everyone who crossed her path, teaching them that sometimes, the slow and steady turtle is the one who knows best.\u001b[0m\n",
      "\u001b[33;1m\u001b[1;3mIn a beautiful garden, wise turtle Tessa teaches young rabbit Rosie to embrace new adventures and overcome fears, inspiring courage and growth in all who know her.\u001b[0m\n",
      "\n",
      "\u001b[1m> Finished chain.\u001b[0m\n"
     ]
    },
    {
     "data": {
      "text/plain": [
       "'In a beautiful garden, wise turtle Tessa teaches young rabbit Rosie to embrace new adventures and overcome fears, inspiring courage and growth in all who know her.'"
      ]
     },
     "execution_count": 3,
     "metadata": {},
     "output_type": "execute_result"
    }
   ],
   "source": [
    "from langchain.prompts import PromptTemplate\n",
    "from langchain_openai import ChatOpenAI\n",
    "from langchain.chains import LLMChain, SimpleSequentialChain\n",
    "from dotenv import load_dotenv\n",
    "import os\n",
    "\n",
    "# Load environment variables\n",
    "load_dotenv()\n",
    "api_key = os.getenv(\"OPENAI_API_KEY\")\n",
    "if not api_key:\n",
    "    raise ValueError(\"OPENAI_API_KEY not found in .env\")\n",
    "\n",
    "# Initialize LLM\n",
    "llm = ChatOpenAI(openai_api_key=api_key, model=\"gpt-3.5-turbo\")\n",
    "\n",
    "# Prompt 1: Generate story\n",
    "prompt1 = PromptTemplate(\n",
    "    input_variables=[\"input\"], \n",
    "    template=\"Write a short story about {input}\"\n",
    ")\n",
    "\n",
    "# Prompt 2: Summarize\n",
    "prompt2 = PromptTemplate(\n",
    "    input_variables=[\"input\"], \n",
    "    template=\"Summarize the story in one sentence: {input}\"\n",
    ")\n",
    "\n",
    "# Create chains (input/output key is assumed to be 'input'/'text')\n",
    "chain1 = LLMChain(llm=llm, prompt=prompt1)\n",
    "chain2 = LLMChain(llm=llm, prompt=prompt2)\n",
    "\n",
    "# Build sequential chain\n",
    "overall_chain = SimpleSequentialChain(chains=[chain1, chain2], verbose=True)\n",
    "\n",
    "# Run the chain\n",
    "overall_chain.run(\"a turtle\")\n"
   ]
  },
  {
   "cell_type": "code",
   "execution_count": 6,
   "id": "5bdcb753-6206-45c1-80c7-4f97b76daf51",
   "metadata": {},
   "outputs": [
    {
     "name": "stdout",
     "output_type": "stream",
     "text": [
      "\n",
      "\n",
      "\u001b[1m> Entering new SimpleSequentialChain chain...\u001b[0m\n",
      "\u001b[36;1m\u001b[1;3mIn the bustling streets of Mumbai, India, a young woman named Priya navigated her way through the crowds of people with a sense of determination in her eyes. She had grown up in a small village in rural India, but had always dreamed of making something of herself in the big city.\n",
      "\n",
      "Priya worked as a seamstress in a local garment factory, sewing intricate designs onto beautiful sarees. Her fingers moved swiftly, creating works of art with every stitch. Despite the long hours and low pay, Priya found solace in her craft and took pride in her work.\n",
      "\n",
      "One day, a wealthy socialite visited the factory looking for a unique piece to wear to a high-profile event. Priya's eye-catching designs caught her attention, and she commissioned Priya to create a custom saree for her. Overjoyed and flattered by the opportunity, Priya poured her heart and soul into the project, working tirelessly to create a masterpiece that would impress even the most discerning fashion critics.\n",
      "\n",
      "When the socialite wore Priya's creation to the event, it was met with rave reviews and admiration from all who laid eyes on it. Priya's talent was finally recognized, and she was offered a job at a prestigious design house in Mumbai.\n",
      "\n",
      "As Priya took her first steps into the world of high fashion, she never forgot her humble beginnings in the village. She used her newfound success to give back to her community, providing scholarships for young girls to pursue their dreams just as she had.\n",
      "\n",
      "India was a land of contrasts, where poverty and wealth coexisted side by side. But for Priya, it was a place of endless opportunity and untapped potential. She had proven that with hard work, dedication, and a touch of creativity, anything was possible in the vibrant and diverse country of India.\u001b[0m\n",
      "\u001b[33;1m\u001b[1;3mDespite her humble background, Priya's talent as a seamstress caught the attention of a wealthy socialite, leading to her big break in the world of high fashion and ultimately allowing her to give back to her community in rural India.\u001b[0m\n",
      "\n",
      "\u001b[1m> Finished chain.\u001b[0m\n"
     ]
    },
    {
     "data": {
      "text/plain": [
       "{'input': 'India',\n",
       " 'output': \"Despite her humble background, Priya's talent as a seamstress caught the attention of a wealthy socialite, leading to her big break in the world of high fashion and ultimately allowing her to give back to her community in rural India.\"}"
      ]
     },
     "execution_count": 6,
     "metadata": {},
     "output_type": "execute_result"
    }
   ],
   "source": [
    "overall_chain.invoke('India')"
   ]
  },
  {
   "cell_type": "code",
   "execution_count": null,
   "id": "5b372438-ee67-41ce-96d6-6f87c11c539b",
   "metadata": {},
   "outputs": [],
   "source": []
  }
 ],
 "metadata": {
  "kernelspec": {
   "display_name": "Python 3 (ipykernel)",
   "language": "python",
   "name": "python3"
  },
  "language_info": {
   "codemirror_mode": {
    "name": "ipython",
    "version": 3
   },
   "file_extension": ".py",
   "mimetype": "text/x-python",
   "name": "python",
   "nbconvert_exporter": "python",
   "pygments_lexer": "ipython3",
   "version": "3.10.0"
  }
 },
 "nbformat": 4,
 "nbformat_minor": 5
}
