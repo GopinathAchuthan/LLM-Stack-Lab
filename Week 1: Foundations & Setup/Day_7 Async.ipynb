{
 "cells": [
  {
   "cell_type": "code",
   "execution_count": 10,
   "id": "9bdaa3f8-be68-415b-9ee6-53f639cc583a",
   "metadata": {},
   "outputs": [],
   "source": [
    "import asyncio\n",
    "\n",
    "import nest_asyncio\n",
    "nest_asyncio.apply()"
   ]
  },
  {
   "cell_type": "code",
   "execution_count": 19,
   "id": "79094e4b-5cfd-4713-b4c5-763d005040e5",
   "metadata": {},
   "outputs": [
    {
     "name": "stdout",
     "output_type": "stream",
     "text": [
      "Gopi\n",
      "Baby\n",
      "Done\n"
     ]
    }
   ],
   "source": [
    "async def main():\n",
    "    print('Gopi')\n",
    "    await foo('Baby')\n",
    "    print('Done')    \n",
    "    \n",
    "\n",
    "async def foo(text):\n",
    "    print(text)\n",
    "    await asyncio.sleep(2)\n",
    "    \n",
    "\n",
    "asyncio.run(main())\n",
    "\n",
    "# asyncio.run(foo('lambda'))"
   ]
  },
  {
   "cell_type": "code",
   "execution_count": 20,
   "id": "ecde5d92-511d-498f-b395-edaac6c7a7d7",
   "metadata": {},
   "outputs": [
    {
     "name": "stdout",
     "output_type": "stream",
     "text": [
      "Gopi\n",
      "Done\n",
      "Baby\n"
     ]
    }
   ],
   "source": [
    "async def main():\n",
    "    print('Gopi')\n",
    "    task = asyncio.create_task(foo('Baby'))\n",
    "    print('Done')    \n",
    "    \n",
    "\n",
    "async def foo(text):\n",
    "    print(text)\n",
    "    await asyncio.sleep(2)\n",
    "    \n",
    "\n",
    "asyncio.run(main())"
   ]
  },
  {
   "cell_type": "code",
   "execution_count": 21,
   "id": "07ada561-47f1-47ae-ac99-d2cafb4577d3",
   "metadata": {},
   "outputs": [
    {
     "name": "stdout",
     "output_type": "stream",
     "text": [
      "Gopi\n",
      "Baby\n",
      "Done\n"
     ]
    }
   ],
   "source": [
    "async def main():\n",
    "    print('Gopi')\n",
    "    task = asyncio.create_task(foo('Baby'))\n",
    "    await task\n",
    "    print('Done')    \n",
    "    \n",
    "\n",
    "async def foo(text):\n",
    "    print(text)\n",
    "    await asyncio.sleep(2)\n",
    "    \n",
    "\n",
    "asyncio.run(main())"
   ]
  },
  {
   "cell_type": "code",
   "execution_count": 22,
   "id": "27c0cbbd-c242-480c-9cde-a7162d446755",
   "metadata": {},
   "outputs": [
    {
     "name": "stdout",
     "output_type": "stream",
     "text": [
      "Gopi\n",
      "Baby\n",
      "Done\n"
     ]
    }
   ],
   "source": [
    "async def main():\n",
    "    print('Gopi')\n",
    "    task = asyncio.create_task(foo('Baby'))\n",
    "    await asyncio.sleep(1)\n",
    "    # when main() function await for sleep to end, meanwhile it will start working on create_task\n",
    "    print('Done')    \n",
    "    \n",
    "\n",
    "async def foo(text):\n",
    "    print(text)\n",
    "    await asyncio.sleep(2)\n",
    "    \n",
    "\n",
    "asyncio.run(main())"
   ]
  },
  {
   "cell_type": "code",
   "execution_count": 24,
   "id": "4d21e22d-ec9c-4cf0-8019-dedd48229ea0",
   "metadata": {},
   "outputs": [
    {
     "name": "stdout",
     "output_type": "stream",
     "text": [
      "Gopi\n",
      "Baby\n",
      "Done\n"
     ]
    }
   ],
   "source": [
    "async def main():\n",
    "    print('Gopi')  # Step 1: Print immediately\n",
    "\n",
    "    # Step 2: Create a background task that will run foo('Baby') concurrently\n",
    "    task = asyncio.create_task(foo('Baby'))\n",
    "\n",
    "    # Step 3: Wait for 1 second (gives foo a chance to start)\n",
    "    await asyncio.sleep(1)\n",
    "\n",
    "    # Step 4: Print after 1 second, while foo is still sleeping\n",
    "    print('Done')\n",
    "\n",
    "async def foo(text):\n",
    "    print(text)  # Step A: Print the passed-in text (e.g., 'Baby')\n",
    "\n",
    "    # Step B: Sleep for 10 seconds (simulate a long-running operation)\n",
    "    await asyncio.sleep(10)\n",
    "\n",
    "asyncio.run(main())"
   ]
  },
  {
   "cell_type": "code",
   "execution_count": 29,
   "id": "04c535e6-baec-42a9-91b3-7759aff0e8b0",
   "metadata": {},
   "outputs": [
    {
     "name": "stdout",
     "output_type": "stream",
     "text": [
      "start fetching\n",
      "0\n",
      "1\n",
      "2\n",
      "3\n",
      "4\n",
      "5\n",
      "6\n",
      "7\n",
      "done fetching\n",
      "Value: {'data': 1}\n",
      "8\n",
      "9\n"
     ]
    }
   ],
   "source": [
    "async def fetch_data():\n",
    "    print('start fetching')\n",
    "    await asyncio.sleep(2)\n",
    "    print('done fetching')\n",
    "    return {'data':1}\n",
    "\n",
    "async def print_numbers():\n",
    "    for i in range(10):\n",
    "        print(i)\n",
    "        await asyncio.sleep(0.25)\n",
    "\n",
    "async def main():\n",
    "    task1 = asyncio.create_task(fetch_data())\n",
    "    task2 = asyncio.create_task(print_numbers())\n",
    "    \n",
    "    value = await task1\n",
    "    print(f'Value: {value}')\n",
    "    \n",
    "    await task2\n",
    "    \n",
    "\n",
    "asyncio.run(main())"
   ]
  },
  {
   "cell_type": "code",
   "execution_count": null,
   "id": "133c71ee-db06-4bf3-b980-09c07c2f7ea2",
   "metadata": {},
   "outputs": [],
   "source": []
  },
  {
   "cell_type": "code",
   "execution_count": null,
   "id": "3fb7c06e-a7c8-4953-b2ff-14427c786cd3",
   "metadata": {},
   "outputs": [],
   "source": []
  },
  {
   "cell_type": "code",
   "execution_count": null,
   "id": "1e00eca3-5d14-4c00-b469-2ed56e9a4c8d",
   "metadata": {},
   "outputs": [],
   "source": []
  },
  {
   "cell_type": "code",
   "execution_count": null,
   "id": "ad822c48-52e1-4d96-895a-f066eb263509",
   "metadata": {},
   "outputs": [],
   "source": []
  },
  {
   "cell_type": "code",
   "execution_count": null,
   "id": "67b086f9-31b2-4837-87e8-68f4a4e02e47",
   "metadata": {},
   "outputs": [],
   "source": []
  }
 ],
 "metadata": {
  "kernelspec": {
   "display_name": "Python 3 (ipykernel)",
   "language": "python",
   "name": "python3"
  },
  "language_info": {
   "codemirror_mode": {
    "name": "ipython",
    "version": 3
   },
   "file_extension": ".py",
   "mimetype": "text/x-python",
   "name": "python",
   "nbconvert_exporter": "python",
   "pygments_lexer": "ipython3",
   "version": "3.10.0"
  }
 },
 "nbformat": 4,
 "nbformat_minor": 5
}
