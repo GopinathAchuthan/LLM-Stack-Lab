{
 "cells": [
  {
   "cell_type": "code",
   "execution_count": 7,
   "id": "b7b07faa-3f8a-4077-95cc-e815640808de",
   "metadata": {},
   "outputs": [
    {
     "name": "stdout",
     "output_type": "stream",
     "text": [
      "content='LangChain is a platform that assists developers in creating applications that utilize extensive language models.' additional_kwargs={'refusal': None} response_metadata={'token_usage': {'completion_tokens': 17, 'prompt_tokens': 24, 'total_tokens': 41, 'completion_tokens_details': {'accepted_prediction_tokens': 0, 'audio_tokens': 0, 'reasoning_tokens': 0, 'rejected_prediction_tokens': 0}, 'prompt_tokens_details': {'audio_tokens': 0, 'cached_tokens': 0}}, 'model_name': 'gpt-3.5-turbo-0125', 'system_fingerprint': None, 'id': 'chatcmpl-BiWubUbmU3XLUILeGwZjtFy3dADPL', 'service_tier': 'default', 'finish_reason': 'stop', 'logprobs': None} id='run--5b323177-b181-498d-bbb4-5371b0a87598-0' usage_metadata={'input_tokens': 24, 'output_tokens': 17, 'total_tokens': 41, 'input_token_details': {'audio': 0, 'cache_read': 0}, 'output_token_details': {'audio': 0, 'reasoning': 0}}\n"
     ]
    }
   ],
   "source": [
    "from langchain.prompts import PromptTemplate\n",
    "from langchain_openai import ChatOpenAI\n",
    "from langchain_core.runnables import RunnableSequence\n",
    "from dotenv import load_dotenv\n",
    "import os\n",
    "\n",
    "# Load .env variables\n",
    "load_dotenv()\n",
    "\n",
    "# Get API key\n",
    "api_key = os.getenv(\"OPENAI_API_KEY\")\n",
    "if not api_key:\n",
    "    raise ValueError(\"OPENAI_API_KEY not found. Please set it in your .env file.\")\n",
    "\n",
    "# Initialize model\n",
    "llm = ChatOpenAI(openai_api_key=api_key, \n",
    "                 model_name=\"gpt-3.5-turbo\")\n",
    "\n",
    "# Define the prompt template\n",
    "prompt = PromptTemplate.from_template(\"Summarize this text: {input}\")\n",
    "\n",
    "# Build chain using the modern RunnableSequence\n",
    "chain = prompt | llm\n",
    "\n",
    "# Run chain using `.invoke()` (replaces `.run()`)\n",
    "output = chain.invoke({\"input\": \"LangChain helps developers build applications with large language models.\"})\n",
    "print(output)\n"
   ]
  },
  {
   "cell_type": "code",
   "execution_count": 8,
   "id": "6e55e235-a593-49ef-acad-693e57414c37",
   "metadata": {},
   "outputs": [
    {
     "data": {
      "text/plain": [
       "'LangChain is a platform that assists developers in creating applications that utilize extensive language models.'"
      ]
     },
     "execution_count": 8,
     "metadata": {},
     "output_type": "execute_result"
    }
   ],
   "source": [
    "output.content"
   ]
  },
  {
   "cell_type": "code",
   "execution_count": null,
   "id": "4256dd7b-f2e4-426a-ba71-f6ef4e69d1c8",
   "metadata": {},
   "outputs": [],
   "source": []
  }
 ],
 "metadata": {
  "kernelspec": {
   "display_name": "Python 3 (ipykernel)",
   "language": "python",
   "name": "python3"
  },
  "language_info": {
   "codemirror_mode": {
    "name": "ipython",
    "version": 3
   },
   "file_extension": ".py",
   "mimetype": "text/x-python",
   "name": "python",
   "nbconvert_exporter": "python",
   "pygments_lexer": "ipython3",
   "version": "3.10.0"
  }
 },
 "nbformat": 4,
 "nbformat_minor": 5
}
