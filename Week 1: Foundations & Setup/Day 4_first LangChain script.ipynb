{
 "cells": [
  {
   "cell_type": "code",
   "execution_count": 2,
   "id": "bbf3e8fa-3833-4d1d-8b36-df6e7be6bd88",
   "metadata": {},
   "outputs": [
    {
     "name": "stdin",
     "output_type": "stream",
     "text": [
      "Ask something:  what is star\n"
     ]
    },
    {
     "name": "stdout",
     "output_type": "stream",
     "text": [
      "\n",
      "Response:\n",
      " content='A star is a luminous sphere of plasma held together by its own gravity. Stars are the primary components of galaxies and are responsible for the light and energy that they emit. Stars come in a variety of sizes, temperatures, and colors, and can undergo various stages of evolution throughout their lifetimes.' additional_kwargs={'refusal': None} response_metadata={'token_usage': {'completion_tokens': 60, 'prompt_tokens': 10, 'total_tokens': 70, 'completion_tokens_details': {'accepted_prediction_tokens': 0, 'audio_tokens': 0, 'reasoning_tokens': 0, 'rejected_prediction_tokens': 0}, 'prompt_tokens_details': {'audio_tokens': 0, 'cached_tokens': 0}}, 'model_name': 'gpt-3.5-turbo-0125', 'system_fingerprint': None, 'id': 'chatcmpl-BiWNFNef8pzOgX2lnjnJCYts5Zxrt', 'service_tier': 'default', 'finish_reason': 'stop', 'logprobs': None} id='run--d7771ba5-2431-4128-9e1d-baa3717b45bc-0' usage_metadata={'input_tokens': 10, 'output_tokens': 60, 'total_tokens': 70, 'input_token_details': {'audio': 0, 'cache_read': 0}, 'output_token_details': {'audio': 0, 'reasoning': 0}}\n"
     ]
    }
   ],
   "source": [
    "from langchain_openai import ChatOpenAI\n",
    "from dotenv import load_dotenv\n",
    "import os\n",
    "\n",
    "load_dotenv()\n",
    "\n",
    "api_key = os.getenv(\"OPENAI_API_KEY\")\n",
    "if not api_key:\n",
    "    raise ValueError(\"OPENAI_API_KEY not found. Please set it in your .env file.\")\n",
    "\n",
    "model_choice = \"gpt-3.5-turbo\"  # or \"gpt-4o\"\n",
    "\n",
    "llm = ChatOpenAI(openai_api_key=api_key, \n",
    "                 model_name=model_choice)\n",
    "\n",
    "prompt = input(\"Ask something: \") or \"What is LangChain?\"\n",
    "\n",
    "response = llm.invoke(prompt)\n",
    "\n",
    "print(\"\\nResponse:\\n\", response)\n"
   ]
  },
  {
   "cell_type": "code",
   "execution_count": 4,
   "id": "be839fe9-055a-4d11-9cac-d411e7573b00",
   "metadata": {},
   "outputs": [
    {
     "data": {
      "text/plain": [
       "'A star is a luminous sphere of plasma held together by its own gravity. Stars are the primary components of galaxies and are responsible for the light and energy that they emit. Stars come in a variety of sizes, temperatures, and colors, and can undergo various stages of evolution throughout their lifetimes.'"
      ]
     },
     "execution_count": 4,
     "metadata": {},
     "output_type": "execute_result"
    }
   ],
   "source": [
    "response.content"
   ]
  },
  {
   "cell_type": "code",
   "execution_count": null,
   "id": "87b160d6-da0e-4ec3-8bbe-fddc11ecfee6",
   "metadata": {},
   "outputs": [],
   "source": []
  }
 ],
 "metadata": {
  "kernelspec": {
   "display_name": "Python 3 (ipykernel)",
   "language": "python",
   "name": "python3"
  },
  "language_info": {
   "codemirror_mode": {
    "name": "ipython",
    "version": 3
   },
   "file_extension": ".py",
   "mimetype": "text/x-python",
   "name": "python",
   "nbconvert_exporter": "python",
   "pygments_lexer": "ipython3",
   "version": "3.10.0"
  }
 },
 "nbformat": 4,
 "nbformat_minor": 5
}
