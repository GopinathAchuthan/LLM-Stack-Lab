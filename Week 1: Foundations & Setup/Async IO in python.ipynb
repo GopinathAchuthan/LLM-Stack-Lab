{
 "cells": [
  {
   "cell_type": "markdown",
   "id": "6384f319-ee4b-4102-915c-e6bfdd653327",
   "metadata": {},
   "source": [
    "# Async IO"
   ]
  },
  {
   "cell_type": "code",
   "execution_count": null,
   "id": "de33422b-c64c-45d4-8992-75bf35c2405a",
   "metadata": {},
   "outputs": [],
   "source": [
    "# pip install --upgrade pip aiohttp aiofiles"
   ]
  },
  {
   "cell_type": "markdown",
   "id": "ced38d35-5d31-40ac-8e05-9e5229b3a2ae",
   "metadata": {},
   "source": [
    "**Two keywords:** *async* and *await*"
   ]
  },
  {
   "cell_type": "code",
   "execution_count": null,
   "id": "765101d8-08e5-475c-8965-ce97d4033b7d",
   "metadata": {},
   "outputs": [],
   "source": []
  },
  {
   "cell_type": "code",
   "execution_count": 3,
   "id": "aaf87635-0a87-4f8c-b8e9-a317be77f905",
   "metadata": {},
   "outputs": [],
   "source": [
    "import asyncio\n",
    "import time"
   ]
  },
  {
   "cell_type": "markdown",
   "id": "48df2812-c006-48af-a463-c90ff624ae13",
   "metadata": {},
   "source": [
    "## Asynchronous version"
   ]
  },
  {
   "cell_type": "code",
   "execution_count": 16,
   "id": "95b7a6e7-730d-4f54-954f-959b41828d79",
   "metadata": {},
   "outputs": [],
   "source": [
    "async def count(i):\n",
    "    print(f\"{i}: One\")\n",
    "    await asyncio.sleep(1)\n",
    "    print(f\"{i}: Two\")"
   ]
  },
  {
   "cell_type": "code",
   "execution_count": 14,
   "id": "e8c996b6-3d5a-4ea8-9112-e39b46244e5e",
   "metadata": {},
   "outputs": [],
   "source": [
    "async def main():\n",
    "    await asyncio.gather(count(1), count(2), count(3))"
   ]
  },
  {
   "cell_type": "code",
   "execution_count": 17,
   "id": "af94f691-4f8c-4e42-8312-03b2cdadb2c4",
   "metadata": {},
   "outputs": [
    {
     "name": "stdout",
     "output_type": "stream",
     "text": [
      "1: One\n",
      "2: One\n",
      "3: One\n",
      "1: Two\n",
      "2: Two\n",
      "3: Two\n",
      "Code executed in 1.0033 seconds.\n"
     ]
    }
   ],
   "source": [
    "# Original code:\n",
    "# -----------------------------\n",
    "# s = time.perf_counter()\n",
    "# asyncio.run(main())\n",
    "# elapsed = time.perf_counter() - s\n",
    "# print(f\"Code executed in {elapsed:0.2f} seconds.\")\n",
    "# -----------------------------\n",
    "\n",
    "\n",
    "# Handling for environments with an already running event loop\n",
    "try:\n",
    "    import nest_asyncio\n",
    "    nest_asyncio.apply()\n",
    "except ImportError as ie:\n",
    "    print(f'Error: {ie}')\n",
    "\n",
    "s = time.perf_counter()\n",
    "\n",
    "# Get the current event loop and run `main`\n",
    "loop = asyncio.get_event_loop()\n",
    "\n",
    "# Since I am using Jupyter, this will work fine\n",
    "loop.run_until_complete(main())\n",
    "\n",
    "elapsed = time.perf_counter() - s\n",
    "print(f\"Code executed in {elapsed:0.4f} seconds.\")"
   ]
  },
  {
   "cell_type": "markdown",
   "id": "4e6e397e-dddd-437e-8dca-6b543e5f2df1",
   "metadata": {},
   "source": [
    "## Synchronous version"
   ]
  },
  {
   "cell_type": "code",
   "execution_count": 19,
   "id": "6a50fd02-f635-4f7e-97ca-2cd3294e8ffa",
   "metadata": {},
   "outputs": [
    {
     "name": "stdout",
     "output_type": "stream",
     "text": [
      "0: One\n",
      "0: Two\n",
      "1: One\n",
      "1: Two\n",
      "2: One\n",
      "2: Two\n",
      "Code executed in 3.01 seconds.\n"
     ]
    }
   ],
   "source": [
    "def count(i):\n",
    "    print(f\"{i}: One\")\n",
    "    time.sleep(1)\n",
    "    print(f\"{i}: Two\")\n",
    "\n",
    "def main():\n",
    "    for i in range(3):\n",
    "        count(i)\n",
    "\n",
    "s = time.perf_counter()\n",
    "main()\n",
    "elapsed = time.perf_counter() - s\n",
    "print(f\"Code executed in {elapsed:0.2f} seconds.\")"
   ]
  },
  {
   "cell_type": "markdown",
   "id": "ed757d1f-f85d-4088-880a-8121c453f193",
   "metadata": {},
   "source": [
    "---------"
   ]
  },
  {
   "cell_type": "code",
   "execution_count": 2,
   "id": "175b79bf-b704-4c0d-b8a1-88ca774cc978",
   "metadata": {},
   "outputs": [
    {
     "name": "stdout",
     "output_type": "stream",
     "text": [
      "\u001b[36mInitiated makerandom(0).\n",
      "\u001b[36mmakerandom(0) == 4 too low; retrying.\n",
      "\u001b[91mInitiated makerandom(1).\n",
      "\u001b[91mmakerandom(1) == 4 too low; retrying.\n",
      "\u001b[35mInitiated makerandom(2).\n",
      "\u001b[35mmakerandom(2) == 0 too low; retrying.\n",
      "\u001b[36mmakerandom(0) == 4 too low; retrying.\n",
      "\u001b[91m---> Finished: makerandom(1) == 7\u001b[0m\n",
      "\u001b[36mmakerandom(0) == 4 too low; retrying.\n",
      "\u001b[35mmakerandom(2) == 4 too low; retrying.\n",
      "\u001b[36m---> Finished: makerandom(0) == 8\u001b[0m\n",
      "\u001b[35m---> Finished: makerandom(2) == 10\u001b[0m\n",
      "\n",
      "r1: 8, r2: 7, r3: 10\n"
     ]
    }
   ],
   "source": [
    "import asyncio\n",
    "import random\n",
    "\n",
    "# ANSI colors\n",
    "c = (\n",
    "    \"\\033[0m\",   # End of color\n",
    "    \"\\033[36m\",  # Cyan\n",
    "    \"\\033[91m\",  # Red\n",
    "    \"\\033[35m\",  # Magenta\n",
    ")\n",
    "\n",
    "\n",
    "async def makerandom(idx: int, threshold: int = 6) -> int:\n",
    "    print(c[idx + 1] + f\"Initiated makerandom({idx}).\")\n",
    "    i = random.randint(0, 10)\n",
    "    \n",
    "    while i <= threshold:\n",
    "        print(c[idx + 1] + f\"makerandom({idx}) == {i} too low; retrying.\")\n",
    "        await asyncio.sleep(idx + 1)\n",
    "        i = random.randint(0, 10)\n",
    "\n",
    "    # Here c[0] is used to Reset to default — so the rest of the terminal output remains unaffected.\n",
    "    print(c[idx + 1] + f\"---> Finished: makerandom({idx}) == {i}\" + c[0])\n",
    "    \n",
    "    return i\n",
    "\n",
    "async def main():\n",
    "    res = await asyncio.gather(*(makerandom(i, 10 - i - 3) for i in range(3)))\n",
    "    return res\n",
    "\n",
    "\n",
    "try:\n",
    "    import nest_asyncio\n",
    "    nest_asyncio.apply()\n",
    "except ImportError as ie:\n",
    "    print(f'Error: {ie}')\n",
    "\n",
    "random.seed(444)\n",
    "r1, r2, r3 = asyncio.run(main())\n",
    "print()\n",
    "print(f\"r1: {r1}, r2: {r2}, r3: {r3}\")"
   ]
  },
  {
   "cell_type": "code",
   "execution_count": null,
   "id": "fb1a6da2-fa33-4021-8703-d9916e4b5247",
   "metadata": {},
   "outputs": [],
   "source": []
  },
  {
   "cell_type": "code",
   "execution_count": null,
   "id": "2638da2a-3fa6-4441-8d95-1d1a89a3b8ce",
   "metadata": {},
   "outputs": [],
   "source": []
  }
 ],
 "metadata": {
  "kernelspec": {
   "display_name": "Python 3 (ipykernel)",
   "language": "python",
   "name": "python3"
  },
  "language_info": {
   "codemirror_mode": {
    "name": "ipython",
    "version": 3
   },
   "file_extension": ".py",
   "mimetype": "text/x-python",
   "name": "python",
   "nbconvert_exporter": "python",
   "pygments_lexer": "ipython3",
   "version": "3.10.0"
  }
 },
 "nbformat": 4,
 "nbformat_minor": 5
}
