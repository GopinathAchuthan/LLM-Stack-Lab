{
 "cells": [
  {
   "cell_type": "markdown",
   "id": "be4d3aae-f93e-4472-9ff4-f6e9bf40bd38",
   "metadata": {},
   "source": [
    "# Decorator"
   ]
  },
  {
   "cell_type": "markdown",
   "id": "15c08ddd-7c48-475c-b922-fdac42acf347",
   "metadata": {},
   "source": [
    "A decorator is a function that modifies or extends the behavior of another function (or method) without changing its source code.\n",
    "\n",
    "It’s commonly used for:\n",
    "\n",
    "* Logging\n",
    "* Access control\n",
    "* Memoization/caching\n",
    "* Timing functions\n",
    "* Input validation"
   ]
  },
  {
   "cell_type": "markdown",
   "id": "b897b593-6634-409a-a0c5-2080d1bdfc62",
   "metadata": {},
   "source": [
    "# Logging Decorator"
   ]
  },
  {
   "cell_type": "code",
   "execution_count": 1,
   "id": "a907a760-3208-415c-87c4-3b25c3d080bf",
   "metadata": {},
   "outputs": [],
   "source": [
    "from datetime import datetime"
   ]
  },
  {
   "cell_type": "code",
   "execution_count": 2,
   "id": "e7d2cdcf-462a-43ad-bb90-3d52a3d585fa",
   "metadata": {},
   "outputs": [],
   "source": [
    "def log_function_call(func):\n",
    "    def wrapper(*args, **kwargs):\n",
    "        print(f\"[{datetime.now()}] Calling {func.__name__} with {args}, {kwargs}\")\n",
    "        result = func(*args, **kwargs)\n",
    "        print(f\"[{datetime.now()}] {func.__name__} returned {result}\")\n",
    "        return result\n",
    "    return wrapper\n",
    "\n",
    "@log_function_call\n",
    "def add(a, b):\n",
    "    return a + b"
   ]
  },
  {
   "cell_type": "code",
   "execution_count": 3,
   "id": "2501fcda-ffe0-45a0-90f0-f226c10d24b4",
   "metadata": {},
   "outputs": [
    {
     "name": "stdout",
     "output_type": "stream",
     "text": [
      "[2025-06-07 21:39:27.149430] Calling add with (2, 3), {}\n",
      "[2025-06-07 21:39:27.149533] add returned 5\n"
     ]
    },
    {
     "data": {
      "text/plain": [
       "5"
      ]
     },
     "execution_count": 3,
     "metadata": {},
     "output_type": "execute_result"
    }
   ],
   "source": [
    "add(2,3)"
   ]
  },
  {
   "cell_type": "markdown",
   "id": "d907b8cf-c378-438e-bff2-b92547521b80",
   "metadata": {},
   "source": [
    "# Async Function Decorators"
   ]
  },
  {
   "cell_type": "code",
   "execution_count": 11,
   "id": "315f125b-9bdc-4057-a441-4d97d6d01dda",
   "metadata": {},
   "outputs": [
    {
     "name": "stdout",
     "output_type": "stream",
     "text": [
      "[Async Log] Calling slow_add\n",
      "[Async Log] Calling slow_add\n",
      "[Async Log] Done: 3\n",
      "[Async Log] Done: 9\n",
      "[3, 9]\n"
     ]
    }
   ],
   "source": [
    "import asyncio\n",
    "import functools\n",
    "import nest_asyncio\n",
    "\n",
    "nest_asyncio.apply()\n",
    "\n",
    "def async_logger(func):\n",
    "    @functools.wraps(func)\n",
    "    async def wrapper(*args, **kwargs):\n",
    "        print(f\"[Async Log] Calling {func.__name__}\")\n",
    "        result = await func(*args, **kwargs)\n",
    "        print(f\"[Async Log] Done: {result}\")\n",
    "        return result\n",
    "    return wrapper\n",
    "\n",
    "@async_logger\n",
    "async def slow_add(a, b):\n",
    "    await asyncio.sleep(1)\n",
    "    return a + b\n",
    "\n",
    "async def main():\n",
    "    res = await asyncio.gather(slow_add(1, 2), slow_add(4, 5))\n",
    "    return res\n",
    "\n",
    "# asyncio.run(slow_add(1, 2))\n",
    "loop = asyncio.get_event_loop()\n",
    "result = loop.run_until_complete(main())\n",
    "print(result)\n"
   ]
  },
  {
   "cell_type": "markdown",
   "id": "805fcb87-f79e-4515-93e9-d82d0517149e",
   "metadata": {},
   "source": [
    "Using `@functools.wraps(func)` ensures that metadata like `__name__`, `__doc__`, etc. are preserved in the decorated function."
   ]
  },
  {
   "cell_type": "code",
   "execution_count": null,
   "id": "3151453f-5835-4379-bbc0-624ad706ddbc",
   "metadata": {},
   "outputs": [],
   "source": []
  },
  {
   "cell_type": "markdown",
   "id": "a1e561fe-ccec-4281-8ded-39df502cd051",
   "metadata": {},
   "source": [
    "# Decorators for Class Methods"
   ]
  },
  {
   "cell_type": "code",
   "execution_count": null,
   "id": "cc0ddb42-b2b5-4c2a-a208-70f661084d2c",
   "metadata": {},
   "outputs": [],
   "source": [
    "import functools\n",
    "\n",
    "def log_method(func):\n",
    "    @functools.wraps(func)\n",
    "    def wrapper(self, *args, **kwargs):\n",
    "        print(f\"[LOG] {func.__name__} called with args={args}, kwargs={kwargs}\")\n",
    "        result = func(self, *args, **kwargs)\n",
    "        print(f\"[LOG] {func.__name__} returned {result}\")\n",
    "        return result\n",
    "    return wrapper\n",
    "\n",
    "class Calculator:\n",
    "    def __init__(self, name):\n",
    "        self.name = name\n",
    "\n",
    "    @log_method\n",
    "    def multiply(self, a, b):\n",
    "        return a * b\n",
    "\n",
    "calc = Calculator(\"Basic\")\n",
    "calc.multiply(4, 5)\n"
   ]
  },
  {
   "cell_type": "code",
   "execution_count": null,
   "id": "e06ad6e9-07b2-4c19-bd12-dc22cc65e8e2",
   "metadata": {},
   "outputs": [],
   "source": []
  },
  {
   "cell_type": "markdown",
   "id": "831c4002-d57e-4b57-bd91-b2662702e63b",
   "metadata": {},
   "source": [
    "# Exception Handling Decorator"
   ]
  },
  {
   "cell_type": "code",
   "execution_count": null,
   "id": "5160ae03-47e5-4fef-aca1-cbc65325a47b",
   "metadata": {},
   "outputs": [],
   "source": [
    "import functools\n",
    "import traceback\n",
    "\n",
    "def catch_errors(func):\n",
    "    @functools.wraps(func)\n",
    "    def wrapper(*args, **kwargs):\n",
    "        try:\n",
    "            return func(*args, **kwargs)\n",
    "        except Exception as e:\n",
    "            print(f\"[ERROR] {func.__name__} raised {type(e).__name__}: {e}\")\n",
    "            traceback.print_exc()\n",
    "            return None  # Or raise, or a fallback value\n",
    "    return wrapper\n",
    "\n",
    "@catch_errors\n",
    "def risky_division(a, b):\n",
    "    return a / b\n",
    "\n",
    "print(risky_division(10, 2))   # ✅ Works\n",
    "print(risky_division(10, 0))   # ❌ Caught\n"
   ]
  },
  {
   "cell_type": "code",
   "execution_count": null,
   "id": "a083facf-7a88-4eae-80ef-dc9a728cbccf",
   "metadata": {},
   "outputs": [],
   "source": []
  },
  {
   "cell_type": "markdown",
   "id": "27dd124b-9b0f-482b-895e-1497b45c7870",
   "metadata": {},
   "source": [
    "# Fully featured decorator"
   ]
  },
  {
   "cell_type": "markdown",
   "id": "087cbb57-89f2-4ee2-8e4e-a1f4139be5d1",
   "metadata": {},
   "source": [
    "Create a fully featured decorator that works with:\n",
    "\n",
    "* ✅ Datetime logging\n",
    "\n",
    "* ✅ Class methods (self support)\n",
    "\n",
    "* ✅ Exception handling\n",
    "\n",
    "* ✅ Error logging to a file"
   ]
  },
  {
   "cell_type": "code",
   "execution_count": 13,
   "id": "985a8d7e-6327-4e3d-b2bd-43f5fceb0c7e",
   "metadata": {},
   "outputs": [],
   "source": [
    "import functools\n",
    "from datetime import datetime\n",
    "import traceback\n",
    "\n",
    "def log_and_handle(logfile='errors.log'):\n",
    "    def decorator(func):\n",
    "        @functools.wraps(func)\n",
    "        def wrapper(*args, **kwargs):\n",
    "            func_name = func.__name__\n",
    "            timestamp = datetime.now().strftime('%Y-%m-%d %H:%M:%S')\n",
    "            print(f\"[{timestamp}] Calling {func_name} with args={args}, kwargs={kwargs}\")\n",
    "\n",
    "            try:\n",
    "                result = func(*args, **kwargs)\n",
    "                print(f\"[{timestamp}] {func_name} returned: {result}\")\n",
    "                return result\n",
    "            except Exception as e:\n",
    "                error_time = datetime.now().strftime('%Y-%m-%d %H:%M:%S')\n",
    "                error_message = (\n",
    "                    f\"[{error_time}] ERROR in {func_name}:\\n\"\n",
    "                    f\"Args: {args}\\n\"\n",
    "                    f\"Kwargs: {kwargs}\\n\"\n",
    "                    f\"{type(e).__name__}: {str(e)}\\n\"\n",
    "                    f\"{traceback.format_exc()}\\n\"\n",
    "                    + \"-\"*50 + \"\\n\"\n",
    "                )\n",
    "                print(f\"[{error_time}] {func_name} raised an error: {e}\")\n",
    "                with open(logfile, 'a') as f:\n",
    "                    f.write(error_message)\n",
    "                return None  # or raise if preferred\n",
    "        return wrapper\n",
    "    return decorator\n"
   ]
  },
  {
   "cell_type": "code",
   "execution_count": 14,
   "id": "a80d1eab-aff3-407c-8d34-23b5db991b11",
   "metadata": {},
   "outputs": [
    {
     "name": "stdout",
     "output_type": "stream",
     "text": [
      "[2025-06-07 21:59:44] Calling greet with args=(<__main__.Demo object at 0x105ce36a0>, 'Alice'), kwargs={}\n",
      "[2025-06-07 21:59:44] greet returned: Hello Alice, I'm GPT!\n",
      "[2025-06-07 21:59:44] Calling divide with args=(<__main__.Demo object at 0x105ce36a0>, 10, 2), kwargs={}\n",
      "[2025-06-07 21:59:44] divide returned: 5.0\n",
      "[2025-06-07 21:59:44] Calling divide with args=(<__main__.Demo object at 0x105ce36a0>, 10, 0), kwargs={}\n",
      "[2025-06-07 21:59:44] divide raised an error: division by zero\n"
     ]
    }
   ],
   "source": [
    "class Demo:\n",
    "    def __init__(self, name):\n",
    "        self.name = name\n",
    "\n",
    "    @log_and_handle()\n",
    "    def greet(self, other_name):\n",
    "        return f\"Hello {other_name}, I'm {self.name}!\"\n",
    "\n",
    "    @log_and_handle()\n",
    "    def divide(self, x, y):\n",
    "        return x / y\n",
    "\n",
    "# Use the class\n",
    "d = Demo(\"GPT\")\n",
    "d.greet(\"Alice\")\n",
    "d.divide(10, 2)\n",
    "d.divide(10, 0)  # Will trigger and log a ZeroDivisionError\n"
   ]
  },
  {
   "cell_type": "code",
   "execution_count": null,
   "id": "c7e770ad-4d70-4226-9a40-93976fce2296",
   "metadata": {},
   "outputs": [],
   "source": []
  }
 ],
 "metadata": {
  "kernelspec": {
   "display_name": "Python 3 (ipykernel)",
   "language": "python",
   "name": "python3"
  },
  "language_info": {
   "codemirror_mode": {
    "name": "ipython",
    "version": 3
   },
   "file_extension": ".py",
   "mimetype": "text/x-python",
   "name": "python",
   "nbconvert_exporter": "python",
   "pygments_lexer": "ipython3",
   "version": "3.10.0"
  }
 },
 "nbformat": 4,
 "nbformat_minor": 5
}
